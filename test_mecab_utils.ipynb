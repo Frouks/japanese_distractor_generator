{
 "cells": [
  {
   "cell_type": "code",
   "execution_count": 4,
   "id": "a35557a7",
   "metadata": {},
   "outputs": [],
   "source": [
    "import mecab_utils as mcu"
   ]
  },
  {
   "cell_type": "code",
   "execution_count": 9,
   "id": "5b086ff7",
   "metadata": {},
   "outputs": [
    {
     "name": "stdout",
     "output_type": "stream",
     "text": [
      "Nouns: ['東京', '大学', '自然', '言語', '処理', '研究']\n",
      "Verbs: ['し', 'い']\n",
      "Particles: ['は', 'で', 'を', 'て']\n"
     ]
    }
   ],
   "source": [
    "text = \"私は東京大学で自然言語処理を研究しています。\"\n",
    "\n",
    "# Extract all nouns\n",
    "nouns = mcu.extract_parts(text, \"名詞\")\n",
    "print(\"Nouns:\", nouns)  # ['私', '東京', '大学', '自然', '言語', '処理', '研究']\n",
    "\n",
    "# Extract all verbs\n",
    "verbs = mcu.extract_parts(text, \"動詞\")\n",
    "print(\"Verbs:\", verbs)  # ['し', 'い']\n",
    "\n",
    "# Extract all particles\n",
    "particles = mcu.extract_parts(text, \"助詞\")\n",
    "print(\"Particles:\", particles)  # ['は', 'で', 'を', 'て']"
   ]
  },
  {
   "cell_type": "code",
   "execution_count": null,
   "id": "97f828b6",
   "metadata": {},
   "outputs": [
    {
     "name": "stdout",
     "output_type": "stream",
     "text": [
      "Word frequency counts:\n",
      "Counter({'は': 3, '自然': 3, '言語': 3, '処理': 3, '。': 3, '私': 2, 'を': 2, '研究': 2, 'し': 2, 'て': 2, 'い': 2, 'ます': 2, '面白い': 1, 'です': 1, '東京': 1, '大学': 1, 'で': 1, 'の': 1})\n",
      "\n",
      "Specific word counts:\n",
      "'自然' appears 3 times\n",
      "'言語' appears 3 times\n",
      "'私' appears 2 times\n",
      "\n",
      "Most common words:\n",
      "'は': 3 times\n",
      "'自然': 3 times\n",
      "'言語': 3 times\n",
      "'処理': 3 times\n",
      "'。': 3 times\n",
      "\n",
      "Words appearing more than once:\n",
      "'私': 2 times\n",
      "'は': 3 times\n",
      "'自然': 3 times\n",
      "'言語': 3 times\n",
      "'処理': 3 times\n",
      "'を': 2 times\n",
      "'研究': 2 times\n",
      "'し': 2 times\n",
      "'て': 2 times\n",
      "'い': 2 times\n",
      "'ます': 2 times\n",
      "'。': 3 times\n",
      "\n",
      "Total words: 35\n",
      "Unique words: 18\n",
      "\n",
      "After combining with another text:\n",
      "'自然' now appears 4 times\n"
     ]
    }
   ],
   "source": [
    "# Sample text with repeating words\n",
    "text = \"\"\"私は自然言語処理を研究しています。\n",
    "自然言語処理は面白いです。\n",
    "私は東京大学で自然言語処理の研究をしています。\"\"\"\n",
    "\n",
    "# Get word frequencies\n",
    "word_counts = mcu.word_frequency(text)\n",
    "print(\"Word frequency counts:\")\n",
    "print(word_counts)\n",
    "\n",
    "# Access specific word counts\n",
    "print(\"\\nSpecific word counts:\")\n",
    "print(f\"'自然' appears {word_counts['自然']} times\")\n",
    "print(f\"'言語' appears {word_counts['言語']} times\")\n",
    "print(f\"'私' appears {word_counts['私']} times\")\n",
    "\n",
    "# Get most common words\n",
    "print(\"\\nMost common words:\")\n",
    "for word, count in word_counts.most_common(5):\n",
    "    print(f\"'{word}': {count} times\")\n",
    "\n",
    "# Words that appear more than once\n",
    "print(\"\\nWords appearing more than once:\")\n",
    "for word, count in word_counts.items():\n",
    "    if count > 1:\n",
    "        print(f\"'{word}': {count} times\")\n",
    "\n",
    "# Total number of words\n",
    "print(f\"\\nTotal words: {sum(word_counts.values())}\")\n",
    "print(f\"Unique words: {len(word_counts)}\")\n",
    "\n",
    "# You can also perform operations like addition with Counter objects\n",
    "text2 = \"自然言語処理の研究は楽しいです。\"\n",
    "word_counts2 = mcu.word_frequency(text2)\n",
    "\n",
    "combined_counts = word_counts + word_counts2\n",
    "print(\"\\nAfter combining with another text:\")\n",
    "print(f\"'自然' now appears {combined_counts['自然']} times\")"
   ]
  },
  {
   "cell_type": "code",
   "execution_count": null,
   "id": "1cebe0ca",
   "metadata": {},
   "outputs": [
    {
     "name": "stdout",
     "output_type": "stream",
     "text": [
      "['python', 'が', '好き', 'です']\n",
      "python\tpython\tpython\tpython\t名詞-普通名詞-一般\t\t\t0\n",
      "が\tガ\tガ\tが\t助詞-格助詞\t\t\t\n",
      "好き\tスキ\tスキ\t好き\t形状詞-一般\t\t\t2\n",
      "です\tデス\tデス\tです\t助動詞\t助動詞-デス\t終止形-一般\t\n",
      "EOS\n",
      "\n"
     ]
    }
   ],
   "source": [
    "mcu.verifyInstallation()"
   ]
  }
 ],
 "metadata": {
  "kernelspec": {
   "display_name": "bt",
   "language": "python",
   "name": "python3"
  },
  "language_info": {
   "codemirror_mode": {
    "name": "ipython",
    "version": 3
   },
   "file_extension": ".py",
   "mimetype": "text/x-python",
   "name": "python",
   "nbconvert_exporter": "python",
   "pygments_lexer": "ipython3",
   "version": "3.10.16"
  }
 },
 "nbformat": 4,
 "nbformat_minor": 5
}
